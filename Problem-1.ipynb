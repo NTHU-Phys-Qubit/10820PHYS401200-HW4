{
 "cells": [
  {
   "cell_type": "code",
   "execution_count": 1,
   "metadata": {},
   "outputs": [],
   "source": [
    "import numpy as np\n",
    "import matplotlib.pyplot as plt"
   ]
  },
  {
   "cell_type": "code",
   "execution_count": 2,
   "metadata": {},
   "outputs": [],
   "source": [
    "# parameters\n",
    "J = 1\n",
    "kB = 1\n",
    "Tc = 2/np.log(1+np.sqrt(2))\n",
    "Kc = np.log(1+np.sqrt(2))/2"
   ]
  },
  {
   "cell_type": "markdown",
   "metadata": {},
   "source": [
    "## Exact solution for 2x2 lattice"
   ]
  },
  {
   "cell_type": "code",
   "execution_count": 3,
   "metadata": {},
   "outputs": [],
   "source": [
    "#  exact solution for 2 by 2 lattice\n",
    "def exact(beta):\n",
    "    Z = 2*np.exp(8*beta)+12+2*np.exp(-8*beta)\n",
    "    F = -np.log(Z)/beta\n",
    "    E = -(2*8*np.exp(8*beta)+2*(-8)*np.exp(-8*beta))/Z\n",
    "    E_sqr = (2*64*np.exp(8*beta) +2*64*np.exp(-8*beta))/Z\n",
    "    C = (E_sqr-E*E)*(beta*beta)\n",
    "    M_abs = (2*4*np.exp(8*beta)+8*2)/Z\n",
    "    M_sqr = (2*16*np.exp(8*beta)+8*4)/Z\n",
    "    chi_p = (M_sqr-M_abs*M_abs)*beta\n",
    "    \n",
    "    return Z, F, E, E_sqr, C, M_abs, M_sqr, chi_p"
   ]
  },
  {
   "cell_type": "markdown",
   "metadata": {},
   "source": [
    "## Bare tensors"
   ]
  },
  {
   "cell_type": "code",
   "execution_count": 4,
   "metadata": {},
   "outputs": [],
   "source": [
    "#==================================================================#\n",
    "##\n",
    "##          3             3       \n",
    "##     2--(TO)--0     2--(T1)--0\n",
    "##          1              1  \n",
    "##\n",
    "##          3             3 \n",
    "##     2--(T3)--0     2--(T2)--0\n",
    "##          1             1 \n",
    "#==================================================================#"
   ]
  },
  {
   "cell_type": "markdown",
   "metadata": {},
   "source": [
    "## Contraction on a 2x2 lattice\n",
    "\n",
    "Construct bare tensors $T$ and $T_z$ for the 2D Ising model.\n",
    "\n",
    "Perform exact contract on a 2x2 lattice to obtain\n",
    "* Partition function $Z$.\n",
    "* Energy per bond. (via <S(0,0) S(0,1)>).\n",
    "* Correlation at maximal distance <S(0,0> S(1,1)>.\n",
    "\n",
    "Compare to the exact results on a 2x2 lattice."
   ]
  },
  {
   "cell_type": "code",
   "execution_count": null,
   "metadata": {},
   "outputs": [],
   "source": []
  }
 ],
 "metadata": {
  "kernelspec": {
   "display_name": "Python 3",
   "language": "python",
   "name": "python3"
  },
  "language_info": {
   "codemirror_mode": {
    "name": "ipython",
    "version": 3
   },
   "file_extension": ".py",
   "mimetype": "text/x-python",
   "name": "python",
   "nbconvert_exporter": "python",
   "pygments_lexer": "ipython3",
   "version": "3.7.3"
  }
 },
 "nbformat": 4,
 "nbformat_minor": 4
}
